{
  "nbformat": 4,
  "nbformat_minor": 0,
  "metadata": {
    "colab": {
      "provenance": [],
      "authorship_tag": "ABX9TyN3iQTm9RtzOrpGsUtDfLPI",
      "include_colab_link": true
    },
    "kernelspec": {
      "name": "python3",
      "display_name": "Python 3"
    },
    "language_info": {
      "name": "python"
    }
  },
  "cells": [
    {
      "cell_type": "markdown",
      "metadata": {
        "id": "view-in-github",
        "colab_type": "text"
      },
      "source": [
        "<a href=\"https://colab.research.google.com/github/suyeon-wony/open-source-21/blob/main/%ED%8C%8C%EC%9D%B4%EC%8D%AC_%EC%A4%91%EB%B3%B5_%ED%95%AD%EB%AA%A9_%EC%A0%9C%EA%B1%B0%ED%95%98%EA%B8%B0.ipynb\" target=\"_parent\"><img src=\"https://colab.research.google.com/assets/colab-badge.svg\" alt=\"Open In Colab\"/></a>"
      ]
    },
    {
      "cell_type": "code",
      "execution_count": 2,
      "metadata": {
        "colab": {
          "base_uri": "https://localhost:8080/"
        },
        "id": "JDIN103EduXD",
        "outputId": "fe0f59b1-b0ed-487d-9f72-eb18f38d2b71"
      },
      "outputs": [
        {
          "output_type": "stream",
          "name": "stdout",
          "text": [
            "원본 리스트: ['사과', '바나나', '체리', '사과', '포도', '바나나', '오렌지']\n",
            "중복 제거 리스트: ['오렌지', '바나나', '포도', '사과', '체리']\n",
            "반복문으로 중복 제거: ['사과', '바나나', '체리', '포도', '오렌지']\n"
          ]
        }
      ],
      "source": [
        "\n",
        "fruits = [\"사과\", \"바나나\", \"체리\", \"사과\", \"포도\", \"바나나\", \"오렌지\"]\n",
        "\n",
        "print(f\"원본 리스트: {fruits}\")\n",
        "\n",
        "\n",
        "unique_fruits = list(set(fruits))\n",
        "\n",
        "print(f\"중복 제거 리스트: {unique_fruits}\")\n",
        "\n",
        "\n",
        "unique_fruits_loop = []\n",
        "for fruit in fruits:\n",
        "    if fruit not in unique_fruits_loop:\n",
        "        unique_fruits_loop.append(fruit)\n",
        "\n",
        "print(f\"반복문으로 중복 제거: {unique_fruits_loop}\")"
      ]
    }
  ]
}