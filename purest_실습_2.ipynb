{
  "nbformat": 4,
  "nbformat_minor": 0,
  "metadata": {
    "colab": {
      "provenance": [],
      "authorship_tag": "ABX9TyMHu2WGpzx62LN5gGs86DAu",
      "include_colab_link": true
    },
    "kernelspec": {
      "name": "python3",
      "display_name": "Python 3"
    },
    "language_info": {
      "name": "python"
    }
  },
  "cells": [
    {
      "cell_type": "markdown",
      "metadata": {
        "id": "view-in-github",
        "colab_type": "text"
      },
      "source": [
        "<a href=\"https://colab.research.google.com/github/suyeon-wony/open-source-21/blob/main/purest_%EC%8B%A4%EC%8A%B5_2.ipynb\" target=\"_parent\"><img src=\"https://colab.research.google.com/assets/colab-badge.svg\" alt=\"Open In Colab\"/></a>"
      ]
    },
    {
      "cell_type": "code",
      "execution_count": 1,
      "metadata": {
        "colab": {
          "base_uri": "https://localhost:8080/"
        },
        "id": "h1tJTVWc3Opt",
        "outputId": "0515229e-18d2-405c-afac-f4db15e9e650"
      },
      "outputs": [
        {
          "output_type": "stream",
          "name": "stdout",
          "text": [
            "Writing setup.py\n"
          ]
        }
      ],
      "source": [
        "%%writefile setup.py\n",
        "import setuptools\n",
        "\n",
        "setuptools.setup(\n",
        "    name = 'suyeonwon',\n",
        "    version='0.0.1',\n",
        "    author='suyeonwon',\n",
        "    packages = ['mypandas'],\n",
        "    install_requires = ['pandas'],\n",
        "    classifiers=[\n",
        "        \"programming Language :: Python :: 3\",\n",
        "        \"License :: OSI Approved :: MIT License\",\n",
        "        \"Operating System :: OS Independent\",\n",
        "    ],\n",
        "\n",
        ")"
      ]
    }
  ]
}