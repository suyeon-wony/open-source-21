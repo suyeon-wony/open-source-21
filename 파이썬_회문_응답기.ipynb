{
  "nbformat": 4,
  "nbformat_minor": 0,
  "metadata": {
    "colab": {
      "provenance": [],
      "authorship_tag": "ABX9TyOY+C4D193sLivthwNG1kEf",
      "include_colab_link": true
    },
    "kernelspec": {
      "name": "python3",
      "display_name": "Python 3"
    },
    "language_info": {
      "name": "python"
    }
  },
  "cells": [
    {
      "cell_type": "markdown",
      "metadata": {
        "id": "view-in-github",
        "colab_type": "text"
      },
      "source": [
        "<a href=\"https://colab.research.google.com/github/suyeon-wony/open-source-21/blob/main/%ED%8C%8C%EC%9D%B4%EC%8D%AC_%ED%9A%8C%EB%AC%B8_%EC%9D%91%EB%8B%B5%EA%B8%B0.ipynb\" target=\"_parent\"><img src=\"https://colab.research.google.com/assets/colab-badge.svg\" alt=\"Open In Colab\"/></a>"
      ]
    },
    {
      "cell_type": "code",
      "execution_count": 1,
      "metadata": {
        "colab": {
          "base_uri": "https://localhost:8080/"
        },
        "id": "tLPoUYHr47j0",
        "outputId": "a6bf2240-1226-476f-aef9-9a8f9e9b2231"
      },
      "outputs": [
        {
          "output_type": "stream",
          "name": "stdout",
          "text": [
            "단어를 입력하세요: 안녕\n",
            "❌ '안녕'는 회문이 아닙니다.\n"
          ]
        }
      ],
      "source": [
        "# 회문인지 확인\n",
        "word = input(\"단어를 입력하세요: \").lower()\n",
        "if word == word[::-1]:\n",
        "    print(f\"✅ '{word}'는 회문입니다.\")\n",
        "else:\n",
        "    print(f\"❌ '{word}'는 회문이 아닙니다.\")\n"
      ]
    }
  ]
}