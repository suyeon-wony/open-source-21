{
  "nbformat": 4,
  "nbformat_minor": 0,
  "metadata": {
    "colab": {
      "provenance": [],
      "authorship_tag": "ABX9TyOoep+0d0OPHbKfQAWjMRH+",
      "include_colab_link": true
    },
    "kernelspec": {
      "name": "python3",
      "display_name": "Python 3"
    },
    "language_info": {
      "name": "python"
    }
  },
  "cells": [
    {
      "cell_type": "markdown",
      "metadata": {
        "id": "view-in-github",
        "colab_type": "text"
      },
      "source": [
        "<a href=\"https://colab.research.google.com/github/suyeon-wony/open-source-21/blob/main/%ED%8C%8C%EC%9D%B4%EC%8D%AC_%ED%94%BC%EB%B3%B4%EB%82%98%EC%B9%98_%EC%88%98%EC%97%B4.ipynb\" target=\"_parent\"><img src=\"https://colab.research.google.com/assets/colab-badge.svg\" alt=\"Open In Colab\"/></a>"
      ]
    },
    {
      "cell_type": "code",
      "execution_count": 2,
      "metadata": {
        "colab": {
          "base_uri": "https://localhost:8080/"
        },
        "id": "1X-oOD1Y4F9a",
        "outputId": "de75e10f-7d6e-4bf1-ba31-14f1597cf380"
      },
      "outputs": [
        {
          "output_type": "stream",
          "name": "stdout",
          "text": [
            "몇 개의 피보나치 수를 원하시나요? 10\n",
            "피보나치 수열: [0, 1, 1, 2, 3, 5, 8, 13, 21, 34]\n"
          ]
        }
      ],
      "source": [
        "# 피보나치 수열을 n개 생성\n",
        "def fibonacci(n):\n",
        "    seq = [0, 1]\n",
        "    while len(seq) < n:\n",
        "        seq.append(seq[-1] + seq[-2])\n",
        "    return seq[:n]\n",
        "\n",
        "# 테스트\n",
        "count = int(input(\"몇 개의 피보나치 수를 원하시나요? \"))\n",
        "print(\"피보나치 수열:\", fibonacci(count))\n"
      ]
    }
  ]
}