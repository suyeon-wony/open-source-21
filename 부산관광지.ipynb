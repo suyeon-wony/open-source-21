{
  "nbformat": 4,
  "nbformat_minor": 0,
  "metadata": {
    "colab": {
      "provenance": [],
      "authorship_tag": "ABX9TyMMW8LnddLPHP20+i6jHSeM",
      "include_colab_link": true
    },
    "kernelspec": {
      "name": "python3",
      "display_name": "Python 3"
    },
    "language_info": {
      "name": "python"
    }
  },
  "cells": [
    {
      "cell_type": "markdown",
      "metadata": {
        "id": "view-in-github",
        "colab_type": "text"
      },
      "source": [
        "<a href=\"https://colab.research.google.com/github/suyeon-wony/open-source-21/blob/main/%EB%B6%80%EC%82%B0%EA%B4%80%EA%B4%91%EC%A7%80.ipynb\" target=\"_parent\"><img src=\"https://colab.research.google.com/assets/colab-badge.svg\" alt=\"Open In Colab\"/></a>"
      ]
    },
    {
      "cell_type": "code",
      "source": [],
      "metadata": {
        "id": "YZEqVJ29tHlm"
      },
      "execution_count": null,
      "outputs": []
    },
    {
      "source": [
        "import pandas as pd\n",
        "\n",
        "data = {\n",
        "    'name': ['해운대 해수욕장', '광안리 해수욕장', '태종대', '감천문화마을', '송도 해수욕장'],\n",
        "    'latitude': [35.1595, 35.1527, 35.0521, 35.0989, 35.0564],\n",
        "    'longitude': [129.1610, 129.1183, 129.0622, 129.0293, 129.0602],\n",
        "    'description': ['부산의 대표적인 해수욕장', '광안대교 야경이 아름다운 해수욕장', '절경을 자랑하는 해안 관광지', '알록달록한 집들이 모여있는 마을', '케이블카와 해상 산책로가 있는 해수욕장']\n",
        "}\n",
        "\n",
        "df = pd.DataFrame(data)\n",
        "print(df)"
      ],
      "cell_type": "code",
      "metadata": {
        "colab": {
          "base_uri": "https://localhost:8080/"
        },
        "id": "g6QpUsAAyPv4",
        "outputId": "7416fcdb-569a-46e9-9b24-1803dd291ed5"
      },
      "execution_count": 25,
      "outputs": [
        {
          "output_type": "stream",
          "name": "stdout",
          "text": [
            "       name  latitude  longitude            description\n",
            "0  해운대 해수욕장   35.1595   129.1610          부산의 대표적인 해수욕장\n",
            "1  광안리 해수욕장   35.1527   129.1183     광안대교 야경이 아름다운 해수욕장\n",
            "2       태종대   35.0521   129.0622        절경을 자랑하는 해안 관광지\n",
            "3    감천문화마을   35.0989   129.0293      알록달록한 집들이 모여있는 마을\n",
            "4   송도 해수욕장   35.0564   129.0602  케이블카와 해상 산책로가 있는 해수욕장\n"
          ]
        }
      ]
    },
    {
      "source": [
        "import folium\n",
        "\n",
        "# 지도 생성\n",
        "map = folium.Map(location=[35.15, 129.1], zoom_start=12)\n",
        "\n",
        "# 마커 추가\n",
        "for index, row in df.iterrows():\n",
        "    folium.Marker(\n",
        "        location=[row['latitude'], row['longitude']],\n",
        "        popup=row['name'],\n",
        "        tooltip=row['description']\n",
        "    ).add_to(map)\n",
        "\n",
        "# 지도 저장\n",
        "map.save('busan_hotplaces.html')"
      ],
      "cell_type": "code",
      "metadata": {
        "id": "uvN-qYo8yYw7"
      },
      "execution_count": 26,
      "outputs": []
    }
  ]
}