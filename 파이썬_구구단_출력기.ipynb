{
  "nbformat": 4,
  "nbformat_minor": 0,
  "metadata": {
    "colab": {
      "provenance": [],
      "authorship_tag": "ABX9TyPQ0OmWTXjA4Mb1esKnqHjd",
      "include_colab_link": true
    },
    "kernelspec": {
      "name": "python3",
      "display_name": "Python 3"
    },
    "language_info": {
      "name": "python"
    }
  },
  "cells": [
    {
      "cell_type": "markdown",
      "metadata": {
        "id": "view-in-github",
        "colab_type": "text"
      },
      "source": [
        "<a href=\"https://colab.research.google.com/github/suyeon-wony/open-source-21/blob/main/%ED%8C%8C%EC%9D%B4%EC%8D%AC_%EA%B5%AC%EA%B5%AC%EB%8B%A8_%EC%B6%9C%EB%A0%A5%EA%B8%B0.ipynb\" target=\"_parent\"><img src=\"https://colab.research.google.com/assets/colab-badge.svg\" alt=\"Open In Colab\"/></a>"
      ]
    },
    {
      "cell_type": "code",
      "execution_count": 2,
      "metadata": {
        "colab": {
          "base_uri": "https://localhost:8080/"
        },
        "id": "XXhSknKS4o4V",
        "outputId": "129fc7b0-1c42-4a36-ff85-6ed63cebc192"
      },
      "outputs": [
        {
          "output_type": "stream",
          "name": "stdout",
          "text": [
            "몇 단을 출력할까요? 9\n",
            "\n",
            "📐 9단 구구단\n",
            "9 x 1 = 9\n",
            "9 x 2 = 18\n",
            "9 x 3 = 27\n",
            "9 x 4 = 36\n",
            "9 x 5 = 45\n",
            "9 x 6 = 54\n",
            "9 x 7 = 63\n",
            "9 x 8 = 72\n",
            "9 x 9 = 81\n"
          ]
        }
      ],
      "source": [
        "# 원하는 단의 구구단을 출력\n",
        "dan = int(input(\"몇 단을 출력할까요? \"))\n",
        "print(f\"\\n📐 {dan}단 구구단\")\n",
        "for i in range(1, 10):\n",
        "    print(f\"{dan} x {i} = {dan*i}\")\n"
      ]
    }
  ]
}