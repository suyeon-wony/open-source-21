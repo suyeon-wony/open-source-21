{
  "nbformat": 4,
  "nbformat_minor": 0,
  "metadata": {
    "colab": {
      "provenance": [],
      "authorship_tag": "ABX9TyOlucTxCoN8B2JDBLaf4TlB",
      "include_colab_link": true
    },
    "kernelspec": {
      "name": "python3",
      "display_name": "Python 3"
    },
    "language_info": {
      "name": "python"
    }
  },
  "cells": [
    {
      "cell_type": "markdown",
      "metadata": {
        "id": "view-in-github",
        "colab_type": "text"
      },
      "source": [
        "<a href=\"https://colab.research.google.com/github/suyeon-wony/open-source-21/blob/main/%ED%8C%8C%EC%9D%B4%EC%8D%AC_%EA%B2%8C%EC%9E%84_%EB%A7%8C%EB%93%A4%EA%B8%B0.ipynb\" target=\"_parent\"><img src=\"https://colab.research.google.com/assets/colab-badge.svg\" alt=\"Open In Colab\"/></a>"
      ]
    },
    {
      "cell_type": "code",
      "execution_count": 1,
      "metadata": {
        "colab": {
          "base_uri": "https://localhost:8080/"
        },
        "id": "4CS_HR1fdb3o",
        "outputId": "4edde41e-0c8c-4195-b52d-d37eab6f0fb3"
      },
      "outputs": [
        {
          "output_type": "stream",
          "name": "stdout",
          "text": [
            "숫자 맞추기 게임에 오신 것을 환영합니다!\n",
            "1부터 100 사이의 숫자를 맞춰보세요.\n",
            "추측한 숫자를 입력하세요: 23\n",
            "더 작은 숫자입니다!\n",
            "추측한 숫자를 입력하세요: 21\n",
            "더 작은 숫자입니다!\n",
            "추측한 숫자를 입력하세요: 10\n",
            "더 작은 숫자입니다!\n",
            "추측한 숫자를 입력하세요: 5\n",
            "축하합니다! 4번 만에 숫자를 맞추셨습니다.\n"
          ]
        }
      ],
      "source": [
        "import random\n",
        "\n",
        "# 컴퓨터가 1부터 100 사이의 임의의 숫자를 선택합니다.\n",
        "computer_number = random.randint(1, 100)\n",
        "guess = 0\n",
        "attempts = 0\n",
        "\n",
        "print(\"숫자 맞추기 게임에 오신 것을 환영합니다!\")\n",
        "print(\"1부터 100 사이의 숫자를 맞춰보세요.\")\n",
        "\n",
        "# 사용자가 정답을 맞출 때까지 반복합니다.\n",
        "while guess != computer_number:\n",
        "    try:\n",
        "        # 사용자로부터 숫자를 입력받습니다.\n",
        "        guess = int(input(\"추측한 숫자를 입력하세요: \"))\n",
        "        attempts += 1\n",
        "\n",
        "        # 사용자의 입력과 컴퓨터의 숫자를 비교합니다.\n",
        "        if guess < computer_number:\n",
        "            print(\"더 큰 숫자입니다!\")\n",
        "        elif guess > computer_number:\n",
        "            print(\"더 작은 숫자입니다!\")\n",
        "        else:\n",
        "            print(f\"축하합니다! {attempts}번 만에 숫자를 맞추셨습니다.\")\n",
        "    except ValueError:\n",
        "        print(\"유효한 숫자를 입력해주세요.\")"
      ]
    }
  ]
}