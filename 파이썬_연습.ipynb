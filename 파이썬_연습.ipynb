{
  "nbformat": 4,
  "nbformat_minor": 0,
  "metadata": {
    "colab": {
      "provenance": [],
      "authorship_tag": "ABX9TyMSuXxnMyTlhzo4NHdtrrYL",
      "include_colab_link": true
    },
    "kernelspec": {
      "name": "python3",
      "display_name": "Python 3"
    },
    "language_info": {
      "name": "python"
    }
  },
  "cells": [
    {
      "cell_type": "markdown",
      "metadata": {
        "id": "view-in-github",
        "colab_type": "text"
      },
      "source": [
        "<a href=\"https://colab.research.google.com/github/suyeon-wony/open-source-21/blob/main/%ED%8C%8C%EC%9D%B4%EC%8D%AC_%EC%97%B0%EC%8A%B5.ipynb\" target=\"_parent\"><img src=\"https://colab.research.google.com/assets/colab-badge.svg\" alt=\"Open In Colab\"/></a>"
      ]
    },
    {
      "cell_type": "code",
      "source": [
        "import sys;read=sys.stdin.readline\n",
        "read = sys.stdin.readline\n",
        "r = ''\n",
        "for T in range(int(read())):\n",
        "    r += f'Case {T+1}:\\n'\n",
        "    for i in range(int(read())):\n",
        "        n = int(read())\n",
        "        if n < 6:\n",
        "            r += f'{n+1}\\n'\n",
        "print(r)"
      ],
      "metadata": {
        "id": "YHu7l8EGE3I7"
      },
      "execution_count": null,
      "outputs": []
    },
    {
      "source": [
        "2\n",
        "3\n",
        "1\n",
        "7\n",
        "4\n",
        "2\n",
        "5\n",
        "9"
      ],
      "cell_type": "code",
      "metadata": {
        "colab": {
          "base_uri": "https://localhost:8080/"
        },
        "id": "zi-U4WAkDoQ8",
        "outputId": "ceeffb85-b6dd-4c6f-eb6c-e946e8b348b5"
      },
      "execution_count": 5,
      "outputs": [
        {
          "output_type": "execute_result",
          "data": {
            "text/plain": [
              "9"
            ]
          },
          "metadata": {},
          "execution_count": 5
        }
      ]
    }
  ]
}