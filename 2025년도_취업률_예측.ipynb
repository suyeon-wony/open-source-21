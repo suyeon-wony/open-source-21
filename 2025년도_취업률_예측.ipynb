{
  "nbformat": 4,
  "nbformat_minor": 0,
  "metadata": {
    "colab": {
      "provenance": [],
      "authorship_tag": "ABX9TyPmQ1H3zt264Ih0XwD2SDDe",
      "include_colab_link": true
    },
    "kernelspec": {
      "name": "python3",
      "display_name": "Python 3"
    },
    "language_info": {
      "name": "python"
    }
  },
  "cells": [
    {
      "cell_type": "markdown",
      "metadata": {
        "id": "view-in-github",
        "colab_type": "text"
      },
      "source": [
        "<a href=\"https://colab.research.google.com/github/suyeon-wony/open-source-21/blob/main/2025%EB%85%84%EB%8F%84_%EC%B7%A8%EC%97%85%EB%A5%A0_%EC%98%88%EC%B8%A1.ipynb\" target=\"_parent\"><img src=\"https://colab.research.google.com/assets/colab-badge.svg\" alt=\"Open In Colab\"/></a>"
      ]
    },
    {
      "cell_type": "code",
      "execution_count": null,
      "metadata": {
        "id": "5jWvvd878dkW"
      },
      "outputs": [],
      "source": []
    },
    {
      "source": [
        "import pandas as pd\n",
        "from sklearn.linear_model import LinearRegression\n",
        "\n",
        "# 과거 취업률 데이터 (예시)\n",
        "data = {\n",
        "    '연도': [2010, 2015, 2020],\n",
        "    '취업률': [63.5, 65.8, 67.2]\n",
        "}\n",
        "df = pd.DataFrame(data)\n",
        "\n",
        "# Linear Regression 모델 학습\n",
        "X = df[['연도']]\n",
        "y = df['취업률']\n",
        "model = LinearRegression()\n",
        "model.fit(X, y)\n",
        "\n",
        "# 2025년 취업률 예측\n",
        "future_year = [[2025]]\n",
        "predicted_rate = model.predict(future_year)\n",
        "\n",
        "# 결과 출력\n",
        "print(f\"2025년 예상 취업률: {predicted_rate[0]:.2f}%\")"
      ],
      "cell_type": "code",
      "metadata": {
        "colab": {
          "base_uri": "https://localhost:8080/"
        },
        "id": "JEIuKrpXhfLq",
        "outputId": "35214a9d-6492-4cc9-9224-ec25d5417616"
      },
      "execution_count": 2,
      "outputs": [
        {
          "output_type": "stream",
          "name": "stdout",
          "text": [
            "2025년 예상 취업률: 69.20%\n"
          ]
        },
        {
          "output_type": "stream",
          "name": "stderr",
          "text": [
            "/usr/local/lib/python3.11/dist-packages/sklearn/utils/validation.py:2739: UserWarning: X does not have valid feature names, but LinearRegression was fitted with feature names\n",
            "  warnings.warn(\n"
          ]
        }
      ]
    }
  ]
}