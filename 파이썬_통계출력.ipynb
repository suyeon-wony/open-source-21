{
  "nbformat": 4,
  "nbformat_minor": 0,
  "metadata": {
    "colab": {
      "provenance": [],
      "authorship_tag": "ABX9TyOQhUohKh5EEKhCl24SF0tH",
      "include_colab_link": true
    },
    "kernelspec": {
      "name": "python3",
      "display_name": "Python 3"
    },
    "language_info": {
      "name": "python"
    }
  },
  "cells": [
    {
      "cell_type": "markdown",
      "metadata": {
        "id": "view-in-github",
        "colab_type": "text"
      },
      "source": [
        "<a href=\"https://colab.research.google.com/github/suyeon-wony/open-source-21/blob/main/%ED%8C%8C%EC%9D%B4%EC%8D%AC_%ED%86%B5%EA%B3%84%EC%B6%9C%EB%A0%A5.ipynb\" target=\"_parent\"><img src=\"https://colab.research.google.com/assets/colab-badge.svg\" alt=\"Open In Colab\"/></a>"
      ]
    },
    {
      "cell_type": "code",
      "execution_count": 3,
      "metadata": {
        "colab": {
          "base_uri": "https://localhost:8080/"
        },
        "id": "sg-DS6--5VtR",
        "outputId": "6fc36860-d3c0-46fd-c86d-2015193ea85e"
      },
      "outputs": [
        {
          "output_type": "stream",
          "name": "stdout",
          "text": [
            "숫자들을 공백으로 입력하세요: 10 30\n",
            "📊 통계 결과\n",
            "최댓값: 30\n",
            "최솟값: 10\n",
            "평균: 20.0\n"
          ]
        }
      ],
      "source": [
        "# 리스트를 입력받아 기본 통계 출력\n",
        "numbers = list(map(int, input(\"숫자들을 공백으로 입력하세요: \").split()))\n",
        "print(\"📊 통계 결과\")\n",
        "print(\"최댓값:\", max(numbers))\n",
        "print(\"최솟값:\", min(numbers))\n",
        "print(\"평균:\", sum(numbers)/len(numbers))\n"
      ]
    }
  ]
}