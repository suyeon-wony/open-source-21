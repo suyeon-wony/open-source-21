{
  "nbformat": 4,
  "nbformat_minor": 0,
  "metadata": {
    "colab": {
      "provenance": [],
      "authorship_tag": "ABX9TyMQaFMFEfQryewraS4yS2U1",
      "include_colab_link": true
    },
    "kernelspec": {
      "name": "python3",
      "display_name": "Python 3"
    },
    "language_info": {
      "name": "python"
    }
  },
  "cells": [
    {
      "cell_type": "markdown",
      "metadata": {
        "id": "view-in-github",
        "colab_type": "text"
      },
      "source": [
        "<a href=\"https://colab.research.google.com/github/suyeon-wony/open-source-21/blob/main/2025_%EC%97%B0%ED%9C%B4.ipynb\" target=\"_parent\"><img src=\"https://colab.research.google.com/assets/colab-badge.svg\" alt=\"Open In Colab\"/></a>"
      ]
    },
    {
      "cell_type": "code",
      "execution_count": 1,
      "metadata": {
        "colab": {
          "base_uri": "https://localhost:8080/"
        },
        "id": "JgyOvBfnsbdb",
        "outputId": "17803b0b-1ff4-446f-93e8-b456f98ea023"
      },
      "outputs": [
        {
          "output_type": "stream",
          "name": "stdout",
          "text": [
            "Requirement already satisfied: holidays==0.38 in /usr/local/lib/python3.11/dist-packages (0.38)\n",
            "Requirement already satisfied: python-dateutil in /usr/local/lib/python3.11/dist-packages (from holidays==0.38) (2.9.0.post0)\n",
            "Requirement already satisfied: six>=1.5 in /usr/local/lib/python3.11/dist-packages (from python-dateutil->holidays==0.38) (1.17.0)\n"
          ]
        }
      ],
      "source": [
        "!pip install holidays==0.38"
      ]
    },
    {
      "source": [
        "import holidays\n",
        "from collections import Counter\n",
        "\n",
        "def find_month_with_most_holidays_kr(year):\n",
        "  \"\"\"\n",
        "  특정 연도에 한국에 연휴가 가장 많은 달을 찾습니다.\n",
        "\n",
        "  Args:\n",
        "    year: 연도 (예: 2025)\n",
        "\n",
        "  Returns:\n",
        "    가장 많은 연휴가 있는 달의 숫자 또는 해당 정보가 없으면 None.\n",
        "  \"\"\"\n",
        "  kr_holidays = holidays.KR(years=year)\n",
        "\n",
        "  holiday_months = []\n",
        "  for date, name in sorted(kr_holidays.items()):\n",
        "    holiday_months.append(date.month)\n",
        "\n",
        "  if not holiday_months:\n",
        "    return None\n",
        "\n",
        "  month_counts = Counter(holiday_months)\n",
        "  most_common_month = month_counts.most_common(1)[0][0]\n",
        "\n",
        "  return most_common_month\n",
        "\n",
        "# 올해의 연도를 입력합니다.\n",
        "current_year = 2025\n",
        "month_with_most_holidays = find_month_with_most_holidays_kr(current_year)\n",
        "\n",
        "if month_with_most_holidays:\n",
        "  print(f\"{current_year}년에 한국에서 연휴가 가장 많은 달은 {month_with_most_holidays}월입니다.\")\n",
        "else:\n",
        "  print(f\"{current_year}년에 대한 연휴 정보를 찾을 수 없습니다.\")"
      ],
      "cell_type": "code",
      "metadata": {
        "colab": {
          "base_uri": "https://localhost:8080/"
        },
        "id": "q6gQuxGSw-WZ",
        "outputId": "269251c2-faca-4b47-c613-66563ee93899"
      },
      "execution_count": 3,
      "outputs": [
        {
          "output_type": "stream",
          "name": "stdout",
          "text": [
            "2025년에 한국에서 연휴가 가장 많은 달은 10월입니다.\n"
          ]
        }
      ]
    }
  ]
}